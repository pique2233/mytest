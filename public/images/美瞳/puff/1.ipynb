{
 "cells": [
  {
   "cell_type": "code",
   "execution_count": 2,
   "metadata": {},
   "outputs": [
    {
     "name": "stdout",
     "output_type": "stream",
     "text": [
      "Renamed: 1.png -> 1.png\n",
      "Renamed: 2.png -> 2.png\n",
      "Renamed: 3.png -> 3.png\n",
      "Renamed: 4.png -> 4.png\n",
      "Renamed: 5.png -> 5.png\n",
      "Renamed: 6.png -> 6.png\n",
      "Renamed: 7.png -> 7.png\n",
      "Renamed: 8.png -> 8.png\n",
      "Renamed: 9.png -> 9.png\n"
     ]
    }
   ],
   "source": [
    "import os\n",
    "import glob\n",
    "\n",
    "def rename_images(directory):\n",
    "    # 获取目录下所有的图像文件\n",
    "    image_files = glob.glob(os.path.join(directory, '*.*'))\n",
    "    \n",
    "    # 过滤出常见的图像文件扩展名\n",
    "    image_files = [f for f in image_files if f.lower().endswith(('.png', '.jpg', '.jpeg', '.gif', '.bmp'))]\n",
    "    \n",
    "    # 按照文件名排序\n",
    "    image_files.sort()\n",
    "    \n",
    "    # 重命名文件\n",
    "    for index, file_path in enumerate(image_files, start=1):\n",
    "        # 获取文件扩展名\n",
    "        file_extension = os.path.splitext(file_path)[1]\n",
    "        \n",
    "        # 新文件名\n",
    "        new_file_name = f\"{index}{file_extension}\"\n",
    "        \n",
    "        # 新文件路径\n",
    "        new_file_path = os.path.join(directory, new_file_name)\n",
    "        \n",
    "        # 重命名文件\n",
    "        os.rename(file_path, new_file_path)\n",
    "        print(f\"Renamed: {file_path} -> {new_file_path}\")\n",
    "\n",
    "# 使用示例\n",
    "directory_path = ''  # 替换为你的目录路径\n",
    "rename_images(directory_path)"
   ]
  }
 ],
 "metadata": {
  "kernelspec": {
   "display_name": "base",
   "language": "python",
   "name": "python3"
  },
  "language_info": {
   "codemirror_mode": {
    "name": "ipython",
    "version": 3
   },
   "file_extension": ".py",
   "mimetype": "text/x-python",
   "name": "python",
   "nbconvert_exporter": "python",
   "pygments_lexer": "ipython3",
   "version": "3.12.7"
  }
 },
 "nbformat": 4,
 "nbformat_minor": 2
}
